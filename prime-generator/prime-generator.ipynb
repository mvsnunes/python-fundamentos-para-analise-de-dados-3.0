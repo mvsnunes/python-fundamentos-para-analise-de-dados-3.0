{
 "cells": [
  {
   "cell_type": "markdown",
   "metadata": {},
   "source": [
    "## Comments\n",
    "* The class: PrimeGenerator, generates a boolean list;\n",
    "* In this list False means non prime and True means prime;\n",
    "* The list starts at zero and ends at max_num - 1."
   ]
  },
  {
   "cell_type": "markdown",
   "metadata": {},
   "source": [
    "## Class"
   ]
  },
  {
   "cell_type": "code",
   "execution_count": 1,
   "metadata": {},
   "outputs": [],
   "source": [
    "class PrimeGenerator(object):\n",
    "\n",
    "    def generate_primes(self, max_num):\n",
    "        self.max_num = max_num\n",
    "        isprime = [True] * max_num\n",
    "        isprime[0] = False\n",
    "        isprime[1] = False\n",
    "        for i in range(2, int((max_num)**0.5 + 1)):\n",
    "            if isprime[i]:\n",
    "                for j in range(i*i, max_num, i):\n",
    "                    isprime[j] = False\n",
    "        return isprime\n"
   ]
  },
  {
   "cell_type": "markdown",
   "metadata": {},
   "source": [
    "## Test\n",
    "* None -> Exception\n",
    "* Not an int -> Exception\n",
    "* 20 -> [False, False, True, True, False, True, False, True, False, False, False, True, False, True, False, False, False, True, False, True]"
   ]
  },
  {
   "cell_type": "code",
   "execution_count": 5,
   "metadata": {},
   "outputs": [
    {
     "name": "stdout",
     "output_type": "stream",
     "text": [
      "Behavior acting as expected!\n"
     ]
    }
   ],
   "source": [
    "from nose.tools import assert_equal, assert_raises\n",
    "\n",
    "\n",
    "class TestMath(object):\n",
    "\n",
    "    def test_generate_primes(self):\n",
    "        prime_generator = PrimeGenerator()\n",
    "        assert_raises(TypeError, prime_generator.generate_primes, None)\n",
    "        assert_raises(TypeError, prime_generator.generate_primes, 98.6)\n",
    "        assert_equal(prime_generator.generate_primes(20), [False, False, True,\n",
    "                                                           True, False, True,\n",
    "                                                           False, True, False,\n",
    "                                                           False, False, True,\n",
    "                                                           False, True, False,\n",
    "                                                           False, False, True,\n",
    "                                                           False, True])\n",
    "        print('Behavior acting as expected!')\n",
    "\n",
    "\n",
    "def main():\n",
    "    test = TestMath()\n",
    "    test.test_generate_primes()\n",
    "\n",
    "\n",
    "if __name__ == '__main__':\n",
    "    main()\n"
   ]
  }
 ],
 "metadata": {
  "kernelspec": {
   "display_name": "Python 3.9.12 ('base')",
   "language": "python",
   "name": "python3"
  },
  "language_info": {
   "codemirror_mode": {
    "name": "ipython",
    "version": 3
   },
   "file_extension": ".py",
   "mimetype": "text/x-python",
   "name": "python",
   "nbconvert_exporter": "python",
   "pygments_lexer": "ipython3",
   "version": "3.9.12"
  },
  "orig_nbformat": 4,
  "vscode": {
   "interpreter": {
    "hash": "9f9656c3b481aaa05dd102989db4c9422d5c7f557b2026acc4f729ae44422fde"
   }
  }
 },
 "nbformat": 4,
 "nbformat_minor": 2
}
