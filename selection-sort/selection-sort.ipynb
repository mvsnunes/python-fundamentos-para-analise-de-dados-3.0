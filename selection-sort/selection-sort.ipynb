{
 "cells": [
  {
   "cell_type": "markdown",
   "metadata": {},
   "source": [
    "## Comments\n",
    "The class: SelectionSort sort a list passed as parameter.\n",
    "* list of numbers: numbers in ascending order;\n",
    "* list of strings: alphabetically ordered names."
   ]
  },
  {
   "cell_type": "markdown",
   "metadata": {},
   "source": [
    "## Class"
   ]
  },
  {
   "cell_type": "code",
   "execution_count": 1,
   "metadata": {},
   "outputs": [],
   "source": [
    "class SelectionSort(object):\n",
    "\n",
    "    def sort(self, data):\n",
    "        self.data = data\n",
    "        if data is None:\n",
    "            raise TypeError('data cant be None')\n",
    "        size = len(data)\n",
    "        ord = []\n",
    "        if (size > 1):\n",
    "            while (size > 1):\n",
    "                size = len(data)\n",
    "                ord.append(min(data))\n",
    "                data.remove(min(data))\n",
    "            for num in ord:\n",
    "                data.append(num)\n",
    "        return data"
   ]
  },
  {
   "cell_type": "markdown",
   "metadata": {},
   "source": [
    "## Test\n",
    "* None -> Exception\n",
    "* [] -> []\n",
    "* One element -> [element]\n",
    "* Two or more elements"
   ]
  },
  {
   "cell_type": "code",
   "execution_count": 2,
   "metadata": {},
   "outputs": [
    {
     "name": "stdout",
     "output_type": "stream",
     "text": [
      "None input\n",
      "Empty input\n",
      "One element\n",
      "Two or more elements\n",
      "Sua solução foi executada com sucesso! Parabéns!\n"
     ]
    }
   ],
   "source": [
    "from nose.tools import assert_equal, assert_raises\n",
    "\n",
    "\n",
    "class TestSelectionSort(object):\n",
    "\n",
    "    def test_selection_sort(self, func):\n",
    "        print('None input')\n",
    "        assert_raises(TypeError, func, None)\n",
    "\n",
    "        print('Empty input')\n",
    "        assert_equal(func([]), [])\n",
    "\n",
    "        print('One element')\n",
    "        assert_equal(func([5]), [5])\n",
    "\n",
    "        print('Two or more elements')\n",
    "        data = [5, 1, 7, 2, 6, -3, 5, 7, -10]\n",
    "        assert_equal(func(data), sorted(data))\n",
    "\n",
    "        print('Behavior acting as expected!')\n",
    "\n",
    "\n",
    "def main():\n",
    "    test = TestSelectionSort()\n",
    "    try:\n",
    "        selection_sort = SelectionSort()\n",
    "        test.test_selection_sort(selection_sort.sort)\n",
    "    except NameError:\n",
    "        pass\n",
    "\n",
    "\n",
    "if __name__ == '__main__':\n",
    "    main()\n"
   ]
  }
 ],
 "metadata": {
  "kernelspec": {
   "display_name": "Python 3.9.12 ('base')",
   "language": "python",
   "name": "python3"
  },
  "language_info": {
   "codemirror_mode": {
    "name": "ipython",
    "version": 3
   },
   "file_extension": ".py",
   "mimetype": "text/x-python",
   "name": "python",
   "nbconvert_exporter": "python",
   "pygments_lexer": "ipython3",
   "version": "3.9.12"
  },
  "orig_nbformat": 4,
  "vscode": {
   "interpreter": {
    "hash": "9f9656c3b481aaa05dd102989db4c9422d5c7f557b2026acc4f729ae44422fde"
   }
  }
 },
 "nbformat": 4,
 "nbformat_minor": 2
}
